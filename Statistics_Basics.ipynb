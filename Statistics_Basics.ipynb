{
  "nbformat": 4,
  "nbformat_minor": 0,
  "metadata": {
    "colab": {
      "provenance": []
    },
    "kernelspec": {
      "name": "python3",
      "display_name": "Python 3"
    },
    "language_info": {
      "name": "python"
    }
  },
  "cells": [
    {
      "cell_type": "markdown",
      "source": [
        "##Statistics Basics"
      ],
      "metadata": {
        "id": "-nkKxgGSzbhF"
      }
    },
    {
      "cell_type": "markdown",
      "source": [
        "1.What is the difference between descriptive statistics and inferential statistics? Explain with examples.\n",
        "\n",
        "  - Descriptive statistics are used to summarize and describe the key features of a dataset. They provide insight into the data using charts, graphs, tables, and numerical measures such as mean, median, mode, range, and standard deviation. It deals with what the data shows.\n",
        "\n",
        "  Example: A teacher calculates the average marks of her class of 30 students. She. finds the class average is 75%. This is descriptive statistics.\n",
        "\n",
        "  - Inferential statistics involve using a sample to make generalizations or\n",
        "predictions about a larger population. It includes hypothesis testing, confidence intervals, regression, and correlation.\n",
        "\n",
        "   Example: Based on a survey of 1,000 voters, a polling agency predicts that 55% of voters in the country will vote for a certain party. This is inferential statistics.\n",
        "   "
      ],
      "metadata": {
        "id": "F90VrccSzlD9"
      }
    },
    {
      "cell_type": "markdown",
      "source": [
        "2. What is sampling in statistics? Explain the differences between random and stratified sampling.\n",
        "\n",
        "  - Sampling is the statistical process of selecting a subset (sample) from a larger population to analyze and draw conclusions. Since studying an entire population is often impractical, sampling helps collect and study data efficiently.\n",
        "\n",
        "     Random Sampling:\n",
        "\n",
        "    *   Every individual has an equal chance of being selected.\n",
        "    *   Reduces bias and is simple to perform.\n",
        "    *   Example: Choosing 100 students randomly from a university.\n",
        "\n",
        "    Stratified Sampling:\n",
        "\n",
        "    *   The population is divided into strata (groups) based on characteristics like age, gender, or income.\n",
        "    *   A proportional sample is then randomly selected from each stratum.\n",
        "    *   Example: If a population has 60% females and 40% males, the sample will  have the same proportions.\n",
        "\n",
        "\n",
        "\n",
        "\n",
        "\n",
        "\n"
      ],
      "metadata": {
        "id": "w-62URow06XG"
      }
    },
    {
      "cell_type": "markdown",
      "source": [
        "3. Define mean, median, and mode. Explain why these measures of central tendency are important.\n",
        "\n",
        "    *   Mean (Average): Sum of all values divided by the number of values.\n",
        "\n",
        "        Example: Mean of [2, 4, 6] = (2+4+6)/3 = 4.\n",
        "    *   Median: The middle value in a sorted list. If even count, it's the average of two middle values.\n",
        "\n",
        "        Example: Median of [1, 2, 3, 4] = (2+3)/2 = 2.5.\n",
        "    *   Mode: The value that occurs most frequently.\n",
        "\n",
        "        Example: Mode of [2, 3, 3, 4] is 3.\n",
        "\n",
        "  Importance:\n",
        "\n",
        "    *   These are measures of central tendency that help summarize a large dataset with a single representative value.\n",
        "    *   They are widely used in education, economics, healthcare, and marketing to understand general behavior.\n",
        "\n",
        "\n",
        "\n",
        "\n",
        "\n",
        "\n",
        "\n"
      ],
      "metadata": {
        "id": "8Zp0sCIQ2WW9"
      }
    },
    {
      "cell_type": "markdown",
      "source": [
        "4.Explain skewness and kurtosis. What does a positive skew imply about the data?\n",
        "\n",
        "  - Skewness: Measures the asymmetry of a dataset’s distribution.\n",
        "\n",
        "      *   Positive skew: Tail on the right side; mean > median.\n",
        "      *   Negative skew: Tail on the left side; mean < median.\n",
        "  - Kurtosis: Measures the \"tailedness\" or how extreme the outliers are in the distribution.\n",
        "\n",
        "    *   High kurtosis: Heavy tails, outliers present.\n",
        "    *   Low kurtosis: Light tails, fewer outliers.\n",
        "  - Positive Skew Implication:\n",
        "\n",
        "    *   Most values are clustered on the lower end, and few large values pull the mean to the right.\n",
        "    *   Example: Income distribution often has a positive skew — most people earn average wages, but a few earn very high.\n",
        "\n",
        "\n",
        "\n",
        "\n"
      ],
      "metadata": {
        "id": "54gf2R9r35Yh"
      }
    },
    {
      "cell_type": "code",
      "source": [
        "'''\n",
        "5.Implement a Python program to compute the mean,\n",
        "median, and mode of a given list of numbers.\n",
        "numbers = [12, 15, 12, 18, 19, 12, 20, 22, 19, 19, 24, 24, 24, 26, 28]\n",
        "'''\n",
        "\n",
        "import statistics\n",
        "numbers = [12, 15, 12, 18, 19, 12, 20, 22, 19, 19, 24, 24, 24, 26, 28]\n",
        "\n",
        "mean_val = statistics.mean(numbers)\n",
        "median_val = statistics.median(numbers)\n",
        "mode_val = statistics.mode(numbers)\n",
        "\n",
        "print(\"Mean:\", mean_val)\n",
        "print(\"Median:\", median_val)\n",
        "print(\"Mode:\", mode_val)"
      ],
      "metadata": {
        "colab": {
          "base_uri": "https://localhost:8080/"
        },
        "id": "9TP-PeEB47nP",
        "outputId": "64aa3a0a-1e93-480d-a2e2-f721a2a13fdd"
      },
      "execution_count": 2,
      "outputs": [
        {
          "output_type": "stream",
          "name": "stdout",
          "text": [
            "Mean: 19.6\n",
            "Median: 19\n",
            "Mode: 12\n"
          ]
        }
      ]
    },
    {
      "cell_type": "code",
      "source": [
        "'''\n",
        "6.Compute the covariance and correlation coefficient\n",
        "between the following two datasets provided as lists in Python:\n",
        "list_x = [10, 20, 30, 40, 50]\n",
        "list_y = [15, 25, 35, 45, 60]\n",
        "'''\n",
        "\n",
        "import numpy as np\n",
        "\n",
        "list_x = [10, 20, 30, 40, 50]\n",
        "list_y = [15, 25, 35, 45, 60]\n",
        "\n",
        "covariance = np.cov(list_x, list_y)[0][1]\n",
        "correlation = np.corrcoef(list_x, list_y)[0][1]\n",
        "\n",
        "print(\"Covariance:\", covariance)\n",
        "print(\"Correlation Coefficient:\", correlation)"
      ],
      "metadata": {
        "colab": {
          "base_uri": "https://localhost:8080/"
        },
        "id": "Ydfq2C5W5Cbg",
        "outputId": "b4165701-b5d7-49c5-fb7f-f884302fcdcf"
      },
      "execution_count": 3,
      "outputs": [
        {
          "output_type": "stream",
          "name": "stdout",
          "text": [
            "Covariance: 275.0\n",
            "Correlation Coefficient: 0.995893206467704\n"
          ]
        }
      ]
    },
    {
      "cell_type": "code",
      "source": [
        "'''\n",
        "7. Write a Python script to draw a boxplot for the following\n",
        "numeric list and identify its outliers. Explain the result:\n",
        "data = [12, 14, 14, 15, 18, 19, 19, 21, 22, 22, 23, 23, 24, 26, 29, 35]\n",
        "'''\n",
        "\n",
        "import matplotlib.pyplot as plt\n",
        "\n",
        "data = [12, 14, 14, 15, 18, 19, 19, 21, 22, 22, 23, 23, 24, 26, 29, 35]\n",
        "plt.boxplot(data)\n",
        "plt.title(\"Boxplot of Data\")\n",
        "plt.show()"
      ],
      "metadata": {
        "colab": {
          "base_uri": "https://localhost:8080/",
          "height": 452
        },
        "id": "L4Sm0B-j5TMd",
        "outputId": "a8499de6-4054-4d45-9ae1-bd724e4b7c57"
      },
      "execution_count": 4,
      "outputs": [
        {
          "output_type": "display_data",
          "data": {
            "text/plain": [
              "<Figure size 640x480 with 1 Axes>"
            ],
            "image/png": "[encoded data removed]"
          },
          "metadata": {}
        }
      ]
    },
    {
      "cell_type": "code",
      "source": [
        "'''\n",
        "8.You are working as a data analyst in an e-commerce\n",
        "company. The marketing team wants to know if there is a relationship\n",
        "between advertising spend and daily sales.\n",
        "\n",
        "• Explain how you would use covariance and correlation to\n",
        "explore this relationship.\n",
        "\n",
        "• Write Python code to compute the correlation between the two\n",
        "lists: advertising_spend = [200, 250, 300, 400, 500]\n",
        "daily_sales = [2200, 2450, 2750, 3200, 4000]\n",
        "'''\n",
        "\n",
        "#Covariance tells whether two variables move together.\n",
        "#Correlation tells how strongly they are related (from -1 to 1).\n",
        "\n",
        "import numpy as np\n",
        "advertising_spend = [200, 250, 300, 400, 500]\n",
        "daily_sales = [2200, 2450, 2750, 3200, 4000]\n",
        "correlation = np.corrcoef(advertising_spend, daily_sales)[0][1]\n",
        "print(\"Correlation:\", correlation)"
      ],
      "metadata": {
        "colab": {
          "base_uri": "https://localhost:8080/"
        },
        "id": "3eXjJ_PW5dhI",
        "outputId": "3dbb9e34-6a87-45cc-8de6-f78ebb568443"
      },
      "execution_count": 5,
      "outputs": [
        {
          "output_type": "stream",
          "name": "stdout",
          "text": [
            "Correlation: 0.9935824101653329\n"
          ]
        }
      ]
    },
    {
      "cell_type": "code",
      "source": [
        "'''\n",
        "9.Your team has collected customer satisfaction survey\n",
        "data on a scale of 1-10 and wants to understand its distribution before\n",
        "launching a new product.\n",
        "\n",
        "• Explain which summary statistics and visualizations (e.g. mean,\n",
        "standard deviation, histogram) you’d use.\n",
        "\n",
        "• Write Python code to create a histogram using Matplotlib for the\n",
        "survey data:\n",
        "survey_scores = [7, 8, 5, 9, 6, 7, 8, 9, 10, 4, 7, 6, 9, 8, 7]\n",
        "'''\n",
        "\n",
        "import matplotlib.pyplot as plt\n",
        "\n",
        "survey_scores = [7, 8, 5, 9, 6, 7, 8, 9, 10, 4, 7, 6, 9, 8, 7]\n",
        "plt.hist(survey_scores, bins=6, edgecolor='black')\n",
        "plt.title(\"Customer Satisfaction Histogram\")\n",
        "plt.xlabel(\"Score\")\n",
        "plt.ylabel(\"Frequency\")\n",
        "plt.show()"
      ],
      "metadata": {
        "colab": {
          "base_uri": "https://localhost:8080/",
          "height": 472
        },
        "id": "XXcKllUK5vzs",
        "outputId": "81a266fe-52df-497b-e3a5-ed44db952989"
      },
      "execution_count": 6,
      "outputs": [
        {
          "output_type": "display_data",
          "data": {
            "text/plain": [
              "<Figure size 640x480 with 1 Axes>"
            ],
            "image/png": "[encoded data removed]"
          },
          "metadata": {}
        }
      ]
    },
    {
      "cell_type": "code",
      "source": [],
      "metadata": {
        "id": "MkfqXHV758AZ"
      },
      "execution_count": null,
      "outputs": []
    }
  ]
}